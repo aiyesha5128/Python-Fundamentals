{
 "cells": [
  {
   "cell_type": "code",
   "execution_count": 1,
   "id": "145e45e1",
   "metadata": {},
   "outputs": [
    {
     "name": "stdout",
     "output_type": "stream",
     "text": [
      "aiyesha\n"
     ]
    }
   ],
   "source": [
    "name='aiyesha'\n",
    "print(name)"
   ]
  },
  {
   "cell_type": "code",
   "execution_count": 2,
   "id": "2ded41fa",
   "metadata": {},
   "outputs": [
    {
     "ename": "NameError",
     "evalue": "name 'Print' is not defined",
     "output_type": "error",
     "traceback": [
      "\u001b[1;31m---------------------------------------------------------------------------\u001b[0m",
      "\u001b[1;31mNameError\u001b[0m                                 Traceback (most recent call last)",
      "Cell \u001b[1;32mIn[2], line 2\u001b[0m\n\u001b[0;32m      1\u001b[0m Fullname\u001b[38;5;241m=\u001b[39m\u001b[38;5;124m'\u001b[39m\u001b[38;5;124mAiyesha Talat\u001b[39m\u001b[38;5;124m'\u001b[39m\n\u001b[1;32m----> 2\u001b[0m Print(Fullname)\n",
      "\u001b[1;31mNameError\u001b[0m: name 'Print' is not defined"
     ]
    }
   ],
   "source": [
    "Fullname='Aiyesha Talat'\n",
    "Print(Fullname)"
   ]
  },
  {
   "cell_type": "code",
   "execution_count": 3,
   "id": "da005f3a",
   "metadata": {},
   "outputs": [
    {
     "name": "stdout",
     "output_type": "stream",
     "text": [
      "Aiyesha Talat\n"
     ]
    }
   ],
   "source": [
    "Fullname='Aiyesha Talat'\n",
    "print(Fullname)"
   ]
  },
  {
   "cell_type": "code",
   "execution_count": 4,
   "id": "f569b0be",
   "metadata": {},
   "outputs": [
    {
     "ename": "SyntaxError",
     "evalue": "invalid decimal literal (2811966757.py, line 1)",
     "output_type": "error",
     "traceback": [
      "\u001b[1;36m  Cell \u001b[1;32mIn[4], line 1\u001b[1;36m\u001b[0m\n\u001b[1;33m    1Fullname='Aiyesha Talat'\u001b[0m\n\u001b[1;37m    ^\u001b[0m\n\u001b[1;31mSyntaxError\u001b[0m\u001b[1;31m:\u001b[0m invalid decimal literal\n"
     ]
    }
   ],
   "source": [
    "1Fullname='Aiyesha Talat'\n",
    "print(1Fullname)"
   ]
  },
  {
   "cell_type": "code",
   "execution_count": 5,
   "id": "784ad274",
   "metadata": {},
   "outputs": [
    {
     "ename": "SyntaxError",
     "evalue": "cannot assign to expression here. Maybe you meant '==' instead of '='? (883340311.py, line 1)",
     "output_type": "error",
     "traceback": [
      "\u001b[1;36m  Cell \u001b[1;32mIn[5], line 1\u001b[1;36m\u001b[0m\n\u001b[1;33m    full@name='Aiyesha Talat'\u001b[0m\n\u001b[1;37m    ^\u001b[0m\n\u001b[1;31mSyntaxError\u001b[0m\u001b[1;31m:\u001b[0m cannot assign to expression here. Maybe you meant '==' instead of '='?\n"
     ]
    }
   ],
   "source": [
    "full@name='Aiyesha Talat'\n",
    "print(full@name)"
   ]
  },
  {
   "cell_type": "code",
   "execution_count": 6,
   "id": "7d41b1c7",
   "metadata": {},
   "outputs": [
    {
     "ename": "SyntaxError",
     "evalue": "invalid syntax (2896615749.py, line 1)",
     "output_type": "error",
     "traceback": [
      "\u001b[1;36m  Cell \u001b[1;32mIn[6], line 1\u001b[1;36m\u001b[0m\n\u001b[1;33m    full name ='Aiyesha Talat'\u001b[0m\n\u001b[1;37m         ^\u001b[0m\n\u001b[1;31mSyntaxError\u001b[0m\u001b[1;31m:\u001b[0m invalid syntax\n"
     ]
    }
   ],
   "source": [
    "full name ='Aiyesha Talat'\n",
    "print(full name)"
   ]
  },
  {
   "cell_type": "code",
   "execution_count": 7,
   "id": "163fc595",
   "metadata": {},
   "outputs": [
    {
     "ename": "NameError",
     "evalue": "name 'fullname' is not defined",
     "output_type": "error",
     "traceback": [
      "\u001b[1;31m---------------------------------------------------------------------------\u001b[0m",
      "\u001b[1;31mNameError\u001b[0m                                 Traceback (most recent call last)",
      "Cell \u001b[1;32mIn[7], line 1\u001b[0m\n\u001b[1;32m----> 1\u001b[0m \u001b[38;5;28mtype\u001b[39m(fullname)\n",
      "\u001b[1;31mNameError\u001b[0m: name 'fullname' is not defined"
     ]
    }
   ],
   "source": [
    "type(fullname)"
   ]
  },
  {
   "cell_type": "code",
   "execution_count": 8,
   "id": "311c313e",
   "metadata": {},
   "outputs": [
    {
     "data": {
      "text/plain": [
       "str"
      ]
     },
     "execution_count": 8,
     "metadata": {},
     "output_type": "execute_result"
    }
   ],
   "source": [
    "Fullname='Aiyesha Talat'\n",
    "type(Fullname)"
   ]
  },
  {
   "cell_type": "code",
   "execution_count": 9,
   "id": "36c778f1",
   "metadata": {},
   "outputs": [
    {
     "name": "stdout",
     "output_type": "stream",
     "text": [
      "Aiyesha Talat\n"
     ]
    }
   ],
   "source": [
    "fullname='Aiyesha Talat'\n",
    "print(fullname.title())"
   ]
  },
  {
   "cell_type": "code",
   "execution_count": 11,
   "id": "1fe288d3",
   "metadata": {},
   "outputs": [
    {
     "name": "stdout",
     "output_type": "stream",
     "text": [
      "Aiyesha Talat\n"
     ]
    }
   ],
   "source": [
    "fullname ='aiyesha talat'\n",
    "print(fullname.title())"
   ]
  },
  {
   "cell_type": "code",
   "execution_count": 12,
   "id": "ddd67600",
   "metadata": {},
   "outputs": [
    {
     "name": "stdout",
     "output_type": "stream",
     "text": [
      "AIYESHA\n"
     ]
    }
   ],
   "source": [
    "first_name ='aiyesha'\n",
    "print(first_name.upper())"
   ]
  },
  {
   "cell_type": "code",
   "execution_count": 13,
   "id": "8b09edc4",
   "metadata": {},
   "outputs": [],
   "source": [
    "first_name ='AIYESHA'"
   ]
  },
  {
   "cell_type": "code",
   "execution_count": 14,
   "id": "78349028",
   "metadata": {},
   "outputs": [
    {
     "name": "stdout",
     "output_type": "stream",
     "text": [
      "aiyesha\n"
     ]
    }
   ],
   "source": [
    "print(first_name.lower())"
   ]
  },
  {
   "cell_type": "code",
   "execution_count": 17,
   "id": "c6772302",
   "metadata": {},
   "outputs": [
    {
     "name": "stdout",
     "output_type": "stream",
     "text": [
      "my firstname is aiyesha and my lastname is talat\n"
     ]
    }
   ],
   "source": [
    "firstname = 'aiyesha'\n",
    "lastname='talat'\n",
    "fullname=f\"my firstname is {firstname} and my lastname is {lastname}\"\n",
    "print(fullname)"
   ]
  },
  {
   "cell_type": "code",
   "execution_count": 18,
   "id": "72f83ace",
   "metadata": {},
   "outputs": [
    {
     "name": "stdout",
     "output_type": "stream",
     "text": [
      "my firstname is AIYESHA and my lastname is TALAT\n"
     ]
    }
   ],
   "source": [
    "firstname = 'aiyesha'\n",
    "lastname='talat'\n",
    "fullname=f\"my firstname is {firstname.upper()} and my lastname is {lastname.upper()}\"\n",
    "print(fullname)"
   ]
  },
  {
   "cell_type": "code",
   "execution_count": 19,
   "id": "43309519",
   "metadata": {},
   "outputs": [
    {
     "name": "stdout",
     "output_type": "stream",
     "text": [
      "my firstname is aiyesha and my lastname is talat\n"
     ]
    }
   ],
   "source": [
    "firstname = 'AIYESHA'\n",
    "lastname='TALAT'\n",
    "fullname=f\"my firstname is {firstname.lower()} and my lastname is {lastname.lower()}\"\n",
    "print(fullname)"
   ]
  },
  {
   "cell_type": "code",
   "execution_count": 20,
   "id": "05ea4438",
   "metadata": {},
   "outputs": [
    {
     "name": "stdout",
     "output_type": "stream",
     "text": [
      "my firstname is Aiyesha and my lastname is Talat\n"
     ]
    }
   ],
   "source": [
    "firstname = 'aiyesha'\n",
    "lastname='talat'\n",
    "fullname=f\"my firstname is {firstname.title()} and my lastname is {lastname.title()}\"\n",
    "print(fullname)\n"
   ]
  },
  {
   "cell_type": "code",
   "execution_count": 21,
   "id": "39613d98",
   "metadata": {},
   "outputs": [
    {
     "name": "stdout",
     "output_type": "stream",
     "text": [
      "english,/nurdu,/narabic\n"
     ]
    }
   ],
   "source": [
    "languages ='english,/nurdu,/narabic'\n",
    "print(languages)"
   ]
  },
  {
   "cell_type": "code",
   "execution_count": 34,
   "id": "74302aff",
   "metadata": {},
   "outputs": [
    {
     "name": "stdout",
     "output_type": "stream",
     "text": [
      "english\n",
      "urdu\n",
      "telugu\n"
     ]
    }
   ],
   "source": [
    "languages ='english\\nurdu\\ntelugu'\n",
    "print(languages)"
   ]
  },
  {
   "cell_type": "code",
   "execution_count": 35,
   "id": "480cefef",
   "metadata": {},
   "outputs": [
    {
     "name": "stdout",
     "output_type": "stream",
     "text": [
      "english\turdu\thindi\n"
     ]
    }
   ],
   "source": [
    "languages ='english\\turdu\\thindi'\n",
    "print(languages)"
   ]
  },
  {
   "cell_type": "code",
   "execution_count": 37,
   "id": "924d97a5",
   "metadata": {},
   "outputs": [
    {
     "name": "stdout",
     "output_type": "stream",
     "text": [
      "Aiyesha Talat\n"
     ]
    }
   ],
   "source": [
    "Fullname= '     Aiyesha Talat'\n",
    "print(Fullname.lstrip())"
   ]
  },
  {
   "cell_type": "code",
   "execution_count": 38,
   "id": "95350c3a",
   "metadata": {},
   "outputs": [
    {
     "name": "stdout",
     "output_type": "stream",
     "text": [
      "Aiyesha Talat\n"
     ]
    }
   ],
   "source": [
    "fullname= 'Aiyesha Talat   '\n",
    "print(fullname.rstrip())\n",
    "\n"
   ]
  },
  {
   "cell_type": "code",
   "execution_count": 40,
   "id": "5eb07504",
   "metadata": {},
   "outputs": [
    {
     "name": "stdout",
     "output_type": "stream",
     "text": [
      "Aiyesha Talat\n"
     ]
    }
   ],
   "source": [
    "fullname= '   Aiyesha Talat   '\n",
    "print(fullname.strip())"
   ]
  },
  {
   "cell_type": "code",
   "execution_count": null,
   "id": "51d335e8",
   "metadata": {},
   "outputs": [],
   "source": []
  }
 ],
 "metadata": {
  "kernelspec": {
   "display_name": "base",
   "language": "python",
   "name": "python3"
  },
  "language_info": {
   "codemirror_mode": {
    "name": "ipython",
    "version": 3
   },
   "file_extension": ".py",
   "mimetype": "text/x-python",
   "name": "python",
   "nbconvert_exporter": "python",
   "pygments_lexer": "ipython3",
   "version": "3.13.5"
  }
 },
 "nbformat": 4,
 "nbformat_minor": 5
}
