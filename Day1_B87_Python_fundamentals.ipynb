{
 "cells": [
  {
   "cell_type": "code",
   "execution_count": 1,
   "id": "a6b096ad-7669-4f79-8820-f8fd456326d6",
   "metadata": {},
   "outputs": [
    {
     "name": "stdout",
     "output_type": "stream",
     "text": [
      "Hello All Welcome to the Python Programming Sessions\n"
     ]
    }
   ],
   "source": [
    "print(\"Hello All Welcome to the Python Programming Sessions\")"
   ]
  },
  {
   "cell_type": "code",
   "execution_count": 2,
   "id": "30ec128c-cb55-44a2-b45a-5213d4cf8cee",
   "metadata": {},
   "outputs": [
    {
     "name": "stdout",
     "output_type": "stream",
     "text": [
      "Hello World !! \n"
     ]
    }
   ],
   "source": [
    "print(\"Hello World !! \")"
   ]
  },
  {
   "cell_type": "code",
   "execution_count": null,
   "id": "feb584c6-f7d3-40f4-83c9-ff1c9896a5df",
   "metadata": {},
   "outputs": [],
   "source": []
  }
 ],
 "metadata": {
  "kernelspec": {
   "display_name": "Python 3 (ipykernel)",
   "language": "python",
   "name": "python3"
  },
  "language_info": {
   "codemirror_mode": {
    "name": "ipython",
    "version": 3
   },
   "file_extension": ".py",
   "mimetype": "text/x-python",
   "name": "python",
   "nbconvert_exporter": "python",
   "pygments_lexer": "ipython3",
   "version": "3.13.5"
  }
 },
 "nbformat": 4,
 "nbformat_minor": 5
}
