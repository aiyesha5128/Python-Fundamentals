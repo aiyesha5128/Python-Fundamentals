{
 "cells": [
  {
   "cell_type": "code",
   "execution_count": 2,
   "id": "ad32c863",
   "metadata": {},
   "outputs": [
    {
     "name": "stdout",
     "output_type": "stream",
     "text": [
      "123\n"
     ]
    },
    {
     "data": {
      "text/plain": [
       "int"
      ]
     },
     "execution_count": 2,
     "metadata": {},
     "output_type": "execute_result"
    }
   ],
   "source": [
    "x=123\n",
    "print(x)\n",
    "type(x)"
   ]
  },
  {
   "cell_type": "code",
   "execution_count": 3,
   "id": "ab925f5a",
   "metadata": {},
   "outputs": [
    {
     "name": "stdout",
     "output_type": "stream",
     "text": [
      "123.345\n"
     ]
    },
    {
     "data": {
      "text/plain": [
       "float"
      ]
     },
     "execution_count": 3,
     "metadata": {},
     "output_type": "execute_result"
    }
   ],
   "source": [
    "x=123.345\n",
    "print(x)\n",
    "type(x)"
   ]
  },
  {
   "cell_type": "code",
   "execution_count": 4,
   "id": "4c17d80a",
   "metadata": {},
   "outputs": [
    {
     "name": "stdout",
     "output_type": "stream",
     "text": [
      "['aiyesha', 'sania', 'talat', 'nousheen']\n"
     ]
    },
    {
     "data": {
      "text/plain": [
       "list"
      ]
     },
     "execution_count": 4,
     "metadata": {},
     "output_type": "execute_result"
    }
   ],
   "source": [
    "z=[\"aiyesha\",\"sania\",\"talat\",\"nousheen\"]\n",
    "print(z)\n",
    "type(z)"
   ]
  },
  {
   "cell_type": "code",
   "execution_count": 5,
   "id": "acb9261e",
   "metadata": {},
   "outputs": [
    {
     "name": "stdout",
     "output_type": "stream",
     "text": [
      "sania\n"
     ]
    }
   ],
   "source": [
    "z=[\"aiyesha\",\"sania\",\"talat\",\"nousheen\"]\n",
    "\n",
    "print(z[1])\n"
   ]
  },
  {
   "cell_type": "code",
   "execution_count": 6,
   "id": "a1c03c68",
   "metadata": {},
   "outputs": [
    {
     "name": "stdout",
     "output_type": "stream",
     "text": [
      "sania\n",
      "Sania\n"
     ]
    }
   ],
   "source": [
    "z=[\"aiyesha\",\"sania\",\"talat\",\"nousheen\"]\n",
    "print(z[1])\n",
    "print(z[1].title())\n"
   ]
  },
  {
   "cell_type": "code",
   "execution_count": null,
   "id": "f03a457b",
   "metadata": {},
   "outputs": [
    {
     "name": "stdout",
     "output_type": "stream",
     "text": [
      "['aiyesha', 'sania', 'talat', 'nousheen', 'sidra']\n"
     ]
    }
   ],
   "source": [
    "z=[\"aiyesha\",\"sania\",\"talat\",\"nousheen\"]\n",
    "z.append(\"sidra\")\n",
    "print(z)"
   ]
  },
  {
   "cell_type": "code",
   "execution_count": 10,
   "id": "d76f89e2",
   "metadata": {},
   "outputs": [
    {
     "name": "stdout",
     "output_type": "stream",
     "text": [
      "['ahmed', 'aiyesha', 'sania', 'talat', 'nousheen']\n"
     ]
    }
   ],
   "source": [
    "z=[\"aiyesha\",\"sania\",\"talat\",\"nousheen\"]\n",
    "z.insert(0,\"ahmed\")\n",
    "print(z)\n"
   ]
  },
  {
   "cell_type": "code",
   "execution_count": 16,
   "id": "aacb79d4",
   "metadata": {},
   "outputs": [
    {
     "name": "stdout",
     "output_type": "stream",
     "text": [
      "['cheetah', 'sania', 'talat', 'nousheen']\n"
     ]
    }
   ],
   "source": [
    "z=[\"aiyesha\",\"sania\",\"talat\",\"nousheen\"]\n",
    "z[0]=\"cheetah\" \n",
    "print(z)"
   ]
  },
  {
   "cell_type": "code",
   "execution_count": 17,
   "id": "71f58cdd",
   "metadata": {},
   "outputs": [
    {
     "name": "stdout",
     "output_type": "stream",
     "text": [
      "['aiyesha', 'sania', 'nousheen']\n"
     ]
    }
   ],
   "source": [
    "z=[\"aiyesha\",\"sania\",\"talat\",\"nousheen\"]\n",
    "del z[2]\n",
    "print(z)"
   ]
  },
  {
   "cell_type": "code",
   "execution_count": null,
   "id": "95c316f9",
   "metadata": {},
   "outputs": [],
   "source": []
  }
 ],
 "metadata": {
  "kernelspec": {
   "display_name": "base",
   "language": "python",
   "name": "python3"
  },
  "language_info": {
   "codemirror_mode": {
    "name": "ipython",
    "version": 3
   },
   "file_extension": ".py",
   "mimetype": "text/x-python",
   "name": "python",
   "nbconvert_exporter": "python",
   "pygments_lexer": "ipython3",
   "version": "3.13.5"
  }
 },
 "nbformat": 4,
 "nbformat_minor": 5
}
